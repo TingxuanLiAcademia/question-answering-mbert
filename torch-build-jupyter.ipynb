{
 "cells": [
  {
   "cell_type": "code",
   "execution_count": 3,
   "id": "b3a251ff",
   "metadata": {},
   "outputs": [
    {
     "name": "stdout",
     "output_type": "stream",
     "text": [
      "README.md                   \u001b[0m\u001b[01;34mpredict_mbert_kh_2.0\u001b[0m/\r\n",
      "Untitled.ipynb              \u001b[01;34mpredict_mbert_mix_2.0\u001b[0m/\r\n",
      "\u001b[01;34m__pycache__\u001b[0m/                requirements.txt\r\n",
      "attention_visual.py         \u001b[01;32mrun_qa.py\u001b[0m*\r\n",
      "\u001b[01;34mdataset\u001b[0m/                    \u001b[01;32mrun_qa_beam_search.py\u001b[0m*\r\n",
      "exe_qa_predict.sh           run_qa_beam_search_no_trainer.py\r\n",
      "exe_qa_train.sh             \u001b[01;32mrun_qa_no_trainer.py\u001b[0m*\r\n",
      "\u001b[01;34mmbert_trained_factoid_2.0\u001b[0m/  run_seq2seq_qa.py\r\n",
      "\u001b[01;34mmbert_trained_kh_2.0\u001b[0m/       trainer_qa.py\r\n",
      "\u001b[01;34mmbert_trained_mix_2.0\u001b[0m/      trainer_seq2seq_qa.py\r\n",
      "nohup.out                   utils_qa.py\r\n",
      "\u001b[01;34mpredict_mbert_factoid_2.0\u001b[0m/\r\n"
     ]
    }
   ],
   "source": [
    "ls"
   ]
  },
  {
   "cell_type": "code",
   "execution_count": 5,
   "id": "e90c5354",
   "metadata": {},
   "outputs": [
    {
     "name": "stdout",
     "output_type": "stream",
     "text": [
      "/mnt/work\n"
     ]
    }
   ],
   "source": [
    "cd .."
   ]
  },
  {
   "cell_type": "code",
   "execution_count": 5,
   "id": "db8ce604",
   "metadata": {},
   "outputs": [
    {
     "name": "stdout",
     "output_type": "stream",
     "text": [
      "\u001b[0m\u001b[01;34mcommand\u001b[0m/        \u001b[01;34mqa-bert\u001b[0m/                      \u001b[01;34mquestion-answering_test\u001b[0m/\r\n",
      "\u001b[01;34mdataset\u001b[0m/        \u001b[01;34mqa-bert-git\u001b[0m/                  tingxuan\r\n",
      "\u001b[01;34mdataset_v2022\u001b[0m/  \u001b[01;34mquestion-answering-template\u001b[0m/  \u001b[01;34mtransformers\u001b[0m/\r\n",
      "\u001b[01;34mmt5_dataset\u001b[0m/    \u001b[01;34mquestion-answering_Ver0517\u001b[0m/\r\n",
      "nohup.out       \u001b[01;34mquestion-answering_mbert\u001b[0m/\r\n"
     ]
    }
   ],
   "source": [
    "ls"
   ]
  },
  {
   "cell_type": "code",
   "execution_count": 6,
   "id": "d56b6c6b",
   "metadata": {},
   "outputs": [
    {
     "name": "stdout",
     "output_type": "stream",
     "text": [
      "/mnt/work/transformers\n"
     ]
    }
   ],
   "source": [
    "cd transformers/"
   ]
  },
  {
   "cell_type": "code",
   "execution_count": 7,
   "id": "bf343281",
   "metadata": {},
   "outputs": [
    {
     "name": "stdout",
     "output_type": "stream",
     "text": [
      "CITATION.cff        README.md          \u001b[0m\u001b[01;34mexamples\u001b[0m/       setup.py\r\n",
      "CODE_OF_CONDUCT.md  README_ko.md       hubconf.py      \u001b[01;34msrc\u001b[0m/\r\n",
      "CONTRIBUTING.md     README_zh-hans.md  \u001b[01;34mmodel_cards\u001b[0m/    \u001b[01;34mtemplates\u001b[0m/\r\n",
      "ISSUES.md           README_zh-hant.md  \u001b[01;34mnotebooks\u001b[0m/      \u001b[01;34mtests\u001b[0m/\r\n",
      "LICENSE             conftest.py        pyproject.toml  \u001b[01;34mutils\u001b[0m/\r\n",
      "MANIFEST.in         \u001b[01;34mdocker\u001b[0m/            \u001b[01;34mscripts\u001b[0m/        valohai.yaml\r\n",
      "Makefile            \u001b[01;34mdocs\u001b[0m/              setup.cfg\r\n"
     ]
    }
   ],
   "source": [
    "ls"
   ]
  },
  {
   "cell_type": "code",
   "execution_count": 8,
   "id": "c24eb432",
   "metadata": {},
   "outputs": [
    {
     "name": "stdout",
     "output_type": "stream",
     "text": [
      "Obtaining file:///mnt/work/transformers\n",
      "  Installing build dependencies ... \u001b[?25ldone\n",
      "\u001b[?25h  Getting requirements to build wheel ... \u001b[?25ldone\n",
      "\u001b[?25h    Preparing wheel metadata ... \u001b[?25ldone\n",
      "\u001b[?25hRequirement already satisfied: huggingface-hub<1.0,>=0.1.0 in /root/.pyenv/versions/3.7.8/lib/python3.7/site-packages (from transformers==4.20.0.dev0) (0.7.0)\n",
      "Requirement already satisfied: pyyaml>=5.1 in /root/.pyenv/versions/3.7.8/lib/python3.7/site-packages (from transformers==4.20.0.dev0) (6.0)\n",
      "Requirement already satisfied: importlib-metadata; python_version < \"3.8\" in /root/.pyenv/versions/3.7.8/lib/python3.7/site-packages (from transformers==4.20.0.dev0) (4.11.4)\n",
      "Requirement already satisfied: numpy>=1.17 in /root/.pyenv/versions/3.7.8/lib/python3.7/site-packages (from transformers==4.20.0.dev0) (1.21.6)\n",
      "Collecting regex!=2019.12.17\n",
      "  Using cached regex-2022.6.2-cp37-cp37m-manylinux_2_17_x86_64.manylinux2014_x86_64.whl (749 kB)\n",
      "Requirement already satisfied: tqdm>=4.27 in /root/.pyenv/versions/3.7.8/lib/python3.7/site-packages (from transformers==4.20.0.dev0) (4.64.0)\n",
      "Requirement already satisfied: requests in /root/.pyenv/versions/3.7.8/lib/python3.7/site-packages (from transformers==4.20.0.dev0) (2.27.1)\n",
      "Collecting tokenizers!=0.11.3,<0.13,>=0.11.1\n",
      "  Using cached tokenizers-0.12.1-cp37-cp37m-manylinux_2_12_x86_64.manylinux2010_x86_64.whl (6.6 MB)\n",
      "Requirement already satisfied: packaging>=20.0 in /root/.pyenv/versions/3.7.8/lib/python3.7/site-packages (from transformers==4.20.0.dev0) (21.3)\n",
      "Requirement already satisfied: filelock in /root/.pyenv/versions/3.7.8/lib/python3.7/site-packages (from transformers==4.20.0.dev0) (3.7.1)\n",
      "Requirement already satisfied: typing-extensions>=3.7.4.3 in /root/.pyenv/versions/3.7.8/lib/python3.7/site-packages (from huggingface-hub<1.0,>=0.1.0->transformers==4.20.0.dev0) (4.2.0)\n",
      "Requirement already satisfied: zipp>=0.5 in /root/.pyenv/versions/3.7.8/lib/python3.7/site-packages (from importlib-metadata; python_version < \"3.8\"->transformers==4.20.0.dev0) (3.8.0)\n",
      "Requirement already satisfied: charset-normalizer~=2.0.0; python_version >= \"3\" in /root/.pyenv/versions/3.7.8/lib/python3.7/site-packages (from requests->transformers==4.20.0.dev0) (2.0.12)\n",
      "Requirement already satisfied: urllib3<1.27,>=1.21.1 in /root/.pyenv/versions/3.7.8/lib/python3.7/site-packages (from requests->transformers==4.20.0.dev0) (1.26.9)\n",
      "Requirement already satisfied: idna<4,>=2.5; python_version >= \"3\" in /root/.pyenv/versions/3.7.8/lib/python3.7/site-packages (from requests->transformers==4.20.0.dev0) (3.3)\n",
      "Requirement already satisfied: certifi>=2017.4.17 in /root/.pyenv/versions/3.7.8/lib/python3.7/site-packages (from requests->transformers==4.20.0.dev0) (2022.5.18.1)\n",
      "Requirement already satisfied: pyparsing!=3.0.5,>=2.0.2 in /root/.pyenv/versions/3.7.8/lib/python3.7/site-packages (from packaging>=20.0->transformers==4.20.0.dev0) (3.0.9)\n",
      "Installing collected packages: regex, tokenizers, transformers\n",
      "  Running setup.py develop for transformers\n",
      "Successfully installed regex-2022.6.2 tokenizers-0.12.1 transformers\n",
      "\u001b[33mWARNING: You are using pip version 20.1.1; however, version 22.1.2 is available.\n",
      "You should consider upgrading via the '/root/.pyenv/versions/3.7.8/bin/python3.7 -m pip install --upgrade pip' command.\u001b[0m\n",
      "Note: you may need to restart the kernel to use updated packages.\n"
     ]
    }
   ],
   "source": [
    "pip install -e ."
   ]
  },
  {
   "cell_type": "code",
   "execution_count": 9,
   "id": "aba0a327",
   "metadata": {},
   "outputs": [
    {
     "name": "stdout",
     "output_type": "stream",
     "text": [
      "/mnt/work\n"
     ]
    }
   ],
   "source": [
    "cd .."
   ]
  },
  {
   "cell_type": "code",
   "execution_count": 10,
   "id": "20b3838b",
   "metadata": {},
   "outputs": [
    {
     "name": "stdout",
     "output_type": "stream",
     "text": [
      "\u001b[0m\u001b[01;34mcommand\u001b[0m/        \u001b[01;34mqa-bert\u001b[0m/                      \u001b[01;34mquestion-answering_test\u001b[0m/\r\n",
      "\u001b[01;34mdataset\u001b[0m/        \u001b[01;34mqa-bert-git\u001b[0m/                  tingxuan\r\n",
      "\u001b[01;34mdataset_v2022\u001b[0m/  \u001b[01;34mquestion-answering-template\u001b[0m/  \u001b[01;34mtransformers\u001b[0m/\r\n",
      "\u001b[01;34mmt5_dataset\u001b[0m/    \u001b[01;34mquestion-answering_Ver0517\u001b[0m/\r\n",
      "nohup.out       \u001b[01;34mquestion-answering_mbert\u001b[0m/\r\n"
     ]
    }
   ],
   "source": [
    "ls"
   ]
  },
  {
   "cell_type": "code",
   "execution_count": 11,
   "id": "a2323cfb",
   "metadata": {},
   "outputs": [
    {
     "ename": "ModuleNotFoundError",
     "evalue": "No module named 'torch'",
     "output_type": "error",
     "traceback": [
      "\u001b[0;31m---------------------------------------------------------------------------\u001b[0m",
      "\u001b[0;31mModuleNotFoundError\u001b[0m                       Traceback (most recent call last)",
      "\u001b[0;32m/tmp/ipykernel_22260/4265195184.py\u001b[0m in \u001b[0;36m<module>\u001b[0;34m\u001b[0m\n\u001b[0;32m----> 1\u001b[0;31m \u001b[0;32mimport\u001b[0m \u001b[0mtorch\u001b[0m\u001b[0;34m\u001b[0m\u001b[0;34m\u001b[0m\u001b[0m\n\u001b[0m",
      "\u001b[0;31mModuleNotFoundError\u001b[0m: No module named 'torch'"
     ]
    }
   ],
   "source": [
    "import torch"
   ]
  },
  {
   "cell_type": "code",
   "execution_count": 1,
   "id": "857ac8fb",
   "metadata": {},
   "outputs": [
    {
     "ename": "ModuleNotFoundError",
     "evalue": "No module named 'torch'",
     "output_type": "error",
     "traceback": [
      "\u001b[0;31m---------------------------------------------------------------------------\u001b[0m",
      "\u001b[0;31mModuleNotFoundError\u001b[0m                       Traceback (most recent call last)",
      "\u001b[0;32m/tmp/ipykernel_22958/4265195184.py\u001b[0m in \u001b[0;36m<module>\u001b[0;34m\u001b[0m\n\u001b[0;32m----> 1\u001b[0;31m \u001b[0;32mimport\u001b[0m \u001b[0mtorch\u001b[0m\u001b[0;34m\u001b[0m\u001b[0;34m\u001b[0m\u001b[0m\n\u001b[0m",
      "\u001b[0;31mModuleNotFoundError\u001b[0m: No module named 'torch'"
     ]
    }
   ],
   "source": [
    "import torch"
   ]
  },
  {
   "cell_type": "code",
   "execution_count": 1,
   "id": "fe5aba68",
   "metadata": {},
   "outputs": [
    {
     "ename": "ModuleNotFoundError",
     "evalue": "No module named 'torch'",
     "output_type": "error",
     "traceback": [
      "\u001b[0;31m---------------------------------------------------------------------------\u001b[0m",
      "\u001b[0;31mModuleNotFoundError\u001b[0m                       Traceback (most recent call last)",
      "\u001b[0;32m/tmp/ipykernel_23079/4265195184.py\u001b[0m in \u001b[0;36m<module>\u001b[0;34m\u001b[0m\n\u001b[0;32m----> 1\u001b[0;31m \u001b[0;32mimport\u001b[0m \u001b[0mtorch\u001b[0m\u001b[0;34m\u001b[0m\u001b[0;34m\u001b[0m\u001b[0m\n\u001b[0m",
      "\u001b[0;31mModuleNotFoundError\u001b[0m: No module named 'torch'"
     ]
    }
   ],
   "source": [
    "import torch"
   ]
  },
  {
   "cell_type": "code",
   "execution_count": 2,
   "id": "a31fdab6",
   "metadata": {},
   "outputs": [
    {
     "name": "stdout",
     "output_type": "stream",
     "text": [
      "README.md                   \u001b[0m\u001b[01;34mpredict_mbert_kh_2.0\u001b[0m/\r\n",
      "Untitled.ipynb              \u001b[01;34mpredict_mbert_mix_2.0\u001b[0m/\r\n",
      "\u001b[01;34m__pycache__\u001b[0m/                requirements.txt\r\n",
      "attention_visual.py         \u001b[01;32mrun_qa.py\u001b[0m*\r\n",
      "\u001b[01;34mdataset\u001b[0m/                    \u001b[01;32mrun_qa_beam_search.py\u001b[0m*\r\n",
      "exe_qa_predict.sh           run_qa_beam_search_no_trainer.py\r\n",
      "exe_qa_train.sh             \u001b[01;32mrun_qa_no_trainer.py\u001b[0m*\r\n",
      "\u001b[01;34mmbert_trained_factoid_2.0\u001b[0m/  run_seq2seq_qa.py\r\n",
      "\u001b[01;34mmbert_trained_kh_2.0\u001b[0m/       trainer_qa.py\r\n",
      "\u001b[01;34mmbert_trained_mix_2.0\u001b[0m/      trainer_seq2seq_qa.py\r\n",
      "nohup.out                   utils_qa.py\r\n",
      "\u001b[01;34mpredict_mbert_factoid_2.0\u001b[0m/\r\n"
     ]
    }
   ],
   "source": [
    "ls"
   ]
  },
  {
   "cell_type": "code",
   "execution_count": 3,
   "id": "fab92dec",
   "metadata": {},
   "outputs": [
    {
     "ename": "SyntaxError",
     "evalue": "invalid syntax (1716297296.py, line 1)",
     "output_type": "error",
     "traceback": [
      "\u001b[0;36m  File \u001b[0;32m\"/tmp/ipykernel_23079/1716297296.py\"\u001b[0;36m, line \u001b[0;32m1\u001b[0m\n\u001b[0;31m    cd ..\u001b[0m\n\u001b[0m        ^\u001b[0m\n\u001b[0;31mSyntaxError\u001b[0m\u001b[0;31m:\u001b[0m invalid syntax\n"
     ]
    }
   ],
   "source": [
    "cd ..\n",
    "cd transformers"
   ]
  },
  {
   "cell_type": "code",
   "execution_count": 4,
   "id": "95e7f775",
   "metadata": {},
   "outputs": [
    {
     "name": "stdout",
     "output_type": "stream",
     "text": [
      "/mnt/work\n"
     ]
    }
   ],
   "source": [
    "cd .."
   ]
  },
  {
   "cell_type": "code",
   "execution_count": 5,
   "id": "6bb46b6c",
   "metadata": {},
   "outputs": [
    {
     "name": "stdout",
     "output_type": "stream",
     "text": [
      "/mnt/work/transformers\n"
     ]
    }
   ],
   "source": [
    "cd transformers/"
   ]
  },
  {
   "cell_type": "code",
   "execution_count": 6,
   "id": "1f7d8182",
   "metadata": {},
   "outputs": [
    {
     "name": "stdout",
     "output_type": "stream",
     "text": [
      "Obtaining file:///mnt/work/transformers\n",
      "  Installing build dependencies ... \u001b[?25ldone\n",
      "\u001b[?25h  Getting requirements to build wheel ... \u001b[?25ldone\n",
      "\u001b[?25h    Preparing wheel metadata ... \u001b[?25ldone\n",
      "\u001b[?25hRequirement already satisfied: importlib-metadata; python_version < \"3.8\" in /root/.pyenv/versions/3.7.8/lib/python3.7/site-packages (from transformers==4.20.0.dev0) (4.11.4)\n",
      "Requirement already satisfied: packaging>=20.0 in /root/.pyenv/versions/3.7.8/lib/python3.7/site-packages (from transformers==4.20.0.dev0) (21.3)\n",
      "Requirement already satisfied: pyyaml>=5.1 in /root/.pyenv/versions/3.7.8/lib/python3.7/site-packages (from transformers==4.20.0.dev0) (6.0)\n",
      "Requirement already satisfied: tokenizers!=0.11.3,<0.13,>=0.11.1 in /root/.pyenv/versions/3.7.8/lib/python3.7/site-packages (from transformers==4.20.0.dev0) (0.12.1)\n",
      "Requirement already satisfied: tqdm>=4.27 in /root/.pyenv/versions/3.7.8/lib/python3.7/site-packages (from transformers==4.20.0.dev0) (4.64.0)\n",
      "Requirement already satisfied: numpy>=1.17 in /root/.pyenv/versions/3.7.8/lib/python3.7/site-packages (from transformers==4.20.0.dev0) (1.21.6)\n",
      "Requirement already satisfied: regex!=2019.12.17 in /root/.pyenv/versions/3.7.8/lib/python3.7/site-packages (from transformers==4.20.0.dev0) (2022.6.2)\n",
      "Requirement already satisfied: requests in /root/.pyenv/versions/3.7.8/lib/python3.7/site-packages (from transformers==4.20.0.dev0) (2.27.1)\n",
      "Requirement already satisfied: filelock in /root/.pyenv/versions/3.7.8/lib/python3.7/site-packages (from transformers==4.20.0.dev0) (3.7.1)\n",
      "Requirement already satisfied: huggingface-hub<1.0,>=0.1.0 in /root/.pyenv/versions/3.7.8/lib/python3.7/site-packages (from transformers==4.20.0.dev0) (0.7.0)\n",
      "Requirement already satisfied: zipp>=0.5 in /root/.pyenv/versions/3.7.8/lib/python3.7/site-packages (from importlib-metadata; python_version < \"3.8\"->transformers==4.20.0.dev0) (3.8.0)\n",
      "Requirement already satisfied: typing-extensions>=3.6.4; python_version < \"3.8\" in /root/.pyenv/versions/3.7.8/lib/python3.7/site-packages (from importlib-metadata; python_version < \"3.8\"->transformers==4.20.0.dev0) (4.2.0)\n",
      "Requirement already satisfied: pyparsing!=3.0.5,>=2.0.2 in /root/.pyenv/versions/3.7.8/lib/python3.7/site-packages (from packaging>=20.0->transformers==4.20.0.dev0) (3.0.9)\n",
      "Requirement already satisfied: urllib3<1.27,>=1.21.1 in /root/.pyenv/versions/3.7.8/lib/python3.7/site-packages (from requests->transformers==4.20.0.dev0) (1.26.9)\n",
      "Requirement already satisfied: idna<4,>=2.5; python_version >= \"3\" in /root/.pyenv/versions/3.7.8/lib/python3.7/site-packages (from requests->transformers==4.20.0.dev0) (3.3)\n",
      "Requirement already satisfied: charset-normalizer~=2.0.0; python_version >= \"3\" in /root/.pyenv/versions/3.7.8/lib/python3.7/site-packages (from requests->transformers==4.20.0.dev0) (2.0.12)\n",
      "Requirement already satisfied: certifi>=2017.4.17 in /root/.pyenv/versions/3.7.8/lib/python3.7/site-packages (from requests->transformers==4.20.0.dev0) (2022.5.18.1)\n",
      "Installing collected packages: transformers\n",
      "  Attempting uninstall: transformers\n",
      "    Found existing installation: transformers 4.20.0.dev0\n",
      "    Uninstalling transformers-4.20.0.dev0:\n",
      "      Successfully uninstalled transformers-4.20.0.dev0\n",
      "  Running setup.py develop for transformers\n",
      "Successfully installed transformers\n",
      "\u001b[33mWARNING: You are using pip version 20.1.1; however, version 22.1.2 is available.\n",
      "You should consider upgrading via the '/root/.pyenv/versions/3.7.8/bin/python3.7 -m pip install --upgrade pip' command.\u001b[0m\n",
      "Note: you may need to restart the kernel to use updated packages.\n"
     ]
    }
   ],
   "source": [
    "pip install -e ."
   ]
  },
  {
   "cell_type": "code",
   "execution_count": 1,
   "id": "493776a5",
   "metadata": {},
   "outputs": [
    {
     "name": "stderr",
     "output_type": "stream",
     "text": [
      "None of PyTorch, TensorFlow >= 2.0, or Flax have been found. Models won't be available and only tokenizers, configuration and file/data utilities can be used.\n"
     ]
    }
   ],
   "source": [
    "import transformers"
   ]
  },
  {
   "cell_type": "code",
   "execution_count": 9,
   "id": "43e4530a",
   "metadata": {},
   "outputs": [
    {
     "name": "stdout",
     "output_type": "stream",
     "text": [
      "Looking in links: https://download.pytorch.org/whl/torch_stable.html\n",
      "Collecting torch==1.8.1+cu101\n",
      "  Using cached https://download.pytorch.org/whl/cu101/torch-1.8.1%2Bcu101-cp37-cp37m-linux_x86_64.whl (763.7 MB)\n",
      "Collecting torchvision==0.9.1+cu101\n",
      "  Using cached https://download.pytorch.org/whl/cu101/torchvision-0.9.1%2Bcu101-cp37-cp37m-linux_x86_64.whl (17.3 MB)\n",
      "Collecting torchaudio==0.8.1\n",
      "  Using cached torchaudio-0.8.1-cp37-cp37m-manylinux1_x86_64.whl (1.9 MB)\n",
      "Requirement already satisfied: numpy in /root/.pyenv/versions/3.7.8/lib/python3.7/site-packages (from torch==1.8.1+cu101) (1.21.6)\n",
      "Requirement already satisfied: typing-extensions in /root/.pyenv/versions/3.7.8/lib/python3.7/site-packages (from torch==1.8.1+cu101) (4.2.0)\n",
      "Collecting pillow>=4.1.1\n",
      "  Using cached Pillow-9.1.1-cp37-cp37m-manylinux_2_17_x86_64.manylinux2014_x86_64.whl (3.1 MB)\n",
      "Installing collected packages: torch, pillow, torchvision, torchaudio\n",
      "Successfully installed pillow-9.1.1 torch-1.8.1+cu101 torchaudio-0.8.1 torchvision-0.9.1+cu101\n",
      "\u001b[33mWARNING: You are using pip version 20.1.1; however, version 22.1.2 is available.\n",
      "You should consider upgrading via the '/root/.pyenv/versions/3.7.8/bin/python3.7 -m pip install --upgrade pip' command.\u001b[0m\n",
      "Note: you may need to restart the kernel to use updated packages.\n"
     ]
    }
   ],
   "source": [
    "pip install torch==1.8.1+cu101 torchvision==0.9.1+cu101 torchaudio==0.8.1 -f https://download.pytorch.org/whl/torch_stable.html"
   ]
  },
  {
   "cell_type": "code",
   "execution_count": 1,
   "id": "49825a40",
   "metadata": {},
   "outputs": [],
   "source": [
    "import torch"
   ]
  },
  {
   "cell_type": "code",
   "execution_count": 2,
   "id": "450ecd8b",
   "metadata": {},
   "outputs": [
    {
     "name": "stdout",
     "output_type": "stream",
     "text": [
      "Collecting datasets\n",
      "  Using cached datasets-2.2.2-py3-none-any.whl (346 kB)\n",
      "Collecting aiohttp\n",
      "  Using cached aiohttp-3.8.1-cp37-cp37m-manylinux_2_5_x86_64.manylinux1_x86_64.manylinux_2_12_x86_64.manylinux2010_x86_64.whl (1.1 MB)\n",
      "Collecting fsspec[http]>=2021.05.0\n",
      "  Using cached fsspec-2022.5.0-py3-none-any.whl (140 kB)\n",
      "Collecting multiprocess\n",
      "  Using cached multiprocess-0.70.13-py37-none-any.whl (115 kB)\n",
      "Collecting dill<0.3.5\n",
      "  Using cached dill-0.3.4-py2.py3-none-any.whl (86 kB)\n",
      "Collecting pyarrow>=6.0.0\n",
      "  Using cached pyarrow-8.0.0-cp37-cp37m-manylinux_2_17_x86_64.manylinux2014_x86_64.whl (29.3 MB)\n",
      "Collecting tqdm>=4.62.1\n",
      "  Using cached tqdm-4.64.0-py2.py3-none-any.whl (78 kB)\n",
      "Requirement already satisfied: packaging in /root/.pyenv/versions/3.7.8/lib/python3.7/site-packages (from datasets) (21.3)\n",
      "Requirement already satisfied: numpy>=1.17 in /root/.pyenv/versions/3.7.8/lib/python3.7/site-packages (from datasets) (1.21.6)\n",
      "Collecting requests>=2.19.0\n",
      "  Using cached requests-2.27.1-py2.py3-none-any.whl (63 kB)\n",
      "Requirement already satisfied: importlib-metadata; python_version < \"3.8\" in /root/.pyenv/versions/3.7.8/lib/python3.7/site-packages (from datasets) (4.11.4)\n",
      "Collecting huggingface-hub<1.0.0,>=0.1.0\n",
      "  Using cached huggingface_hub-0.7.0-py3-none-any.whl (86 kB)\n",
      "Collecting responses<0.19\n",
      "  Using cached responses-0.18.0-py3-none-any.whl (38 kB)\n",
      "Requirement already satisfied: pandas in /root/.pyenv/versions/3.7.8/lib/python3.7/site-packages (from datasets) (1.3.5)\n",
      "Collecting xxhash\n",
      "  Using cached xxhash-3.0.0-cp37-cp37m-manylinux_2_17_x86_64.manylinux2014_x86_64.whl (212 kB)\n",
      "Collecting charset-normalizer<3.0,>=2.0\n",
      "  Using cached charset_normalizer-2.0.12-py3-none-any.whl (39 kB)\n",
      "Collecting yarl<2.0,>=1.0\n",
      "  Using cached yarl-1.7.2-cp37-cp37m-manylinux_2_5_x86_64.manylinux1_x86_64.manylinux_2_12_x86_64.manylinux2010_x86_64.whl (271 kB)\n",
      "Collecting asynctest==0.13.0; python_version < \"3.8\"\n",
      "  Using cached asynctest-0.13.0-py3-none-any.whl (26 kB)\n",
      "Requirement already satisfied: attrs>=17.3.0 in /root/.pyenv/versions/3.7.8/lib/python3.7/site-packages (from aiohttp->datasets) (21.4.0)\n",
      "Collecting multidict<7.0,>=4.5\n",
      "  Using cached multidict-6.0.2-cp37-cp37m-manylinux_2_17_x86_64.manylinux2014_x86_64.whl (94 kB)\n",
      "Requirement already satisfied: typing-extensions>=3.7.4; python_version < \"3.8\" in /root/.pyenv/versions/3.7.8/lib/python3.7/site-packages (from aiohttp->datasets) (4.2.0)\n",
      "Collecting aiosignal>=1.1.2\n",
      "  Using cached aiosignal-1.2.0-py3-none-any.whl (8.2 kB)\n",
      "Collecting async-timeout<5.0,>=4.0.0a3\n",
      "  Using cached async_timeout-4.0.2-py3-none-any.whl (5.8 kB)\n",
      "Collecting frozenlist>=1.1.1\n",
      "  Using cached frozenlist-1.3.0-cp37-cp37m-manylinux_2_5_x86_64.manylinux1_x86_64.manylinux_2_17_x86_64.manylinux2014_x86_64.whl (144 kB)\n",
      "Requirement already satisfied: pyparsing!=3.0.5,>=2.0.2 in /root/.pyenv/versions/3.7.8/lib/python3.7/site-packages (from packaging->datasets) (3.0.9)\n",
      "Collecting idna<4,>=2.5; python_version >= \"3\"\n",
      "  Using cached idna-3.3-py3-none-any.whl (61 kB)\n",
      "Collecting certifi>=2017.4.17\n",
      "  Using cached certifi-2022.5.18.1-py3-none-any.whl (155 kB)\n",
      "Collecting urllib3<1.27,>=1.21.1\n",
      "  Using cached urllib3-1.26.9-py2.py3-none-any.whl (138 kB)\n",
      "Requirement already satisfied: zipp>=0.5 in /root/.pyenv/versions/3.7.8/lib/python3.7/site-packages (from importlib-metadata; python_version < \"3.8\"->datasets) (3.8.0)\n",
      "Collecting pyyaml>=5.1\n",
      "  Using cached PyYAML-6.0-cp37-cp37m-manylinux_2_5_x86_64.manylinux1_x86_64.manylinux_2_12_x86_64.manylinux2010_x86_64.whl (596 kB)\n",
      "Collecting filelock\n",
      "  Using cached filelock-3.7.1-py3-none-any.whl (10 kB)\n",
      "Requirement already satisfied: python-dateutil>=2.7.3 in /root/.pyenv/versions/3.7.8/lib/python3.7/site-packages (from pandas->datasets) (2.8.2)\n",
      "Requirement already satisfied: pytz>=2017.3 in /root/.pyenv/versions/3.7.8/lib/python3.7/site-packages (from pandas->datasets) (2022.1)\n",
      "Requirement already satisfied: six>=1.5 in /root/.pyenv/versions/3.7.8/lib/python3.7/site-packages (from python-dateutil>=2.7.3->pandas->datasets) (1.16.0)\n",
      "\u001b[31mERROR: multiprocess 0.70.13 has requirement dill>=0.3.5.1, but you'll have dill 0.3.4 which is incompatible.\u001b[0m\n",
      "Installing collected packages: charset-normalizer, idna, multidict, yarl, asynctest, frozenlist, aiosignal, async-timeout, aiohttp, certifi, urllib3, requests, fsspec, dill, multiprocess, pyarrow, tqdm, pyyaml, filelock, huggingface-hub, responses, xxhash, datasets\n",
      "Successfully installed aiohttp-3.8.1 aiosignal-1.2.0 async-timeout-4.0.2 asynctest-0.13.0 certifi-2022.5.18.1 charset-normalizer-2.0.12 datasets-2.2.2 dill-0.3.4 filelock-3.7.1 frozenlist-1.3.0 fsspec-2022.5.0 huggingface-hub-0.7.0 idna-3.3 multidict-6.0.2 multiprocess-0.70.13 pyarrow-8.0.0 pyyaml-6.0 requests-2.27.1 responses-0.18.0 tqdm-4.64.0 urllib3-1.26.9 xxhash-3.0.0 yarl-1.7.2\n",
      "\u001b[33mWARNING: You are using pip version 20.1.1; however, version 22.1.2 is available.\n",
      "You should consider upgrading via the '/root/.pyenv/versions/3.7.8/bin/python3.7 -m pip install --upgrade pip' command.\u001b[0m\n",
      "Note: you may need to restart the kernel to use updated packages.\n"
     ]
    }
   ],
   "source": [
    "pip install datasets"
   ]
  },
  {
   "cell_type": "code",
   "execution_count": 3,
   "id": "d0a01e1e",
   "metadata": {},
   "outputs": [
    {
     "name": "stdout",
     "output_type": "stream",
     "text": [
      "3.7.8 (default, Jun  8 2022, 06:17:02) \n",
      "[GCC 7.4.0]\n"
     ]
    }
   ],
   "source": [
    "import sys\n",
    "print(sys.version)"
   ]
  },
  {
   "cell_type": "code",
   "execution_count": 1,
   "id": "f3c49329",
   "metadata": {},
   "outputs": [
    {
     "name": "stdout",
     "output_type": "stream",
     "text": [
      "Requirement already satisfied: pandas in /root/.pyenv/versions/3.7.8/lib/python3.7/site-packages (1.3.5)\n",
      "Requirement already satisfied: pytz>=2017.3 in /root/.pyenv/versions/3.7.8/lib/python3.7/site-packages (from pandas) (2022.1)\n",
      "Requirement already satisfied: python-dateutil>=2.7.3 in /root/.pyenv/versions/3.7.8/lib/python3.7/site-packages (from pandas) (2.8.2)\n",
      "Requirement already satisfied: numpy>=1.17.3; platform_machine != \"aarch64\" and platform_machine != \"arm64\" and python_version < \"3.10\" in /root/.pyenv/versions/3.7.8/lib/python3.7/site-packages (from pandas) (1.21.6)\n",
      "Requirement already satisfied: six>=1.5 in /root/.pyenv/versions/3.7.8/lib/python3.7/site-packages (from python-dateutil>=2.7.3->pandas) (1.16.0)\n",
      "\u001b[33mWARNING: You are using pip version 20.1.1; however, version 22.1.2 is available.\n",
      "You should consider upgrading via the '/root/.pyenv/versions/3.7.8/bin/python3.7 -m pip install --upgrade pip' command.\u001b[0m\n",
      "Note: you may need to restart the kernel to use updated packages.\n"
     ]
    }
   ],
   "source": [
    "pip install pandas"
   ]
  },
  {
   "cell_type": "code",
   "execution_count": 1,
   "id": "3319e951",
   "metadata": {},
   "outputs": [
    {
     "name": "stdout",
     "output_type": "stream",
     "text": [
      "Requirement already satisfied: Ipython in /root/.pyenv/versions/3.7.8/lib/python3.7/site-packages (7.34.0)\n",
      "Requirement already satisfied: decorator in /root/.pyenv/versions/3.7.8/lib/python3.7/site-packages (from Ipython) (5.1.1)\n",
      "Requirement already satisfied: pexpect>4.3; sys_platform != \"win32\" in /root/.pyenv/versions/3.7.8/lib/python3.7/site-packages (from Ipython) (4.8.0)\n",
      "Requirement already satisfied: jedi>=0.16 in /root/.pyenv/versions/3.7.8/lib/python3.7/site-packages (from Ipython) (0.18.1)\n",
      "Requirement already satisfied: pygments in /root/.pyenv/versions/3.7.8/lib/python3.7/site-packages (from Ipython) (2.12.0)\n",
      "Requirement already satisfied: backcall in /root/.pyenv/versions/3.7.8/lib/python3.7/site-packages (from Ipython) (0.2.0)\n",
      "Requirement already satisfied: traitlets>=4.2 in /root/.pyenv/versions/3.7.8/lib/python3.7/site-packages (from Ipython) (5.2.2.post1)\n",
      "Requirement already satisfied: setuptools>=18.5 in /root/.pyenv/versions/3.7.8/lib/python3.7/site-packages (from Ipython) (47.1.0)\n",
      "Requirement already satisfied: matplotlib-inline in /root/.pyenv/versions/3.7.8/lib/python3.7/site-packages (from Ipython) (0.1.3)\n",
      "Requirement already satisfied: prompt-toolkit!=3.0.0,!=3.0.1,<3.1.0,>=2.0.0 in /root/.pyenv/versions/3.7.8/lib/python3.7/site-packages (from Ipython) (3.0.29)\n",
      "Requirement already satisfied: pickleshare in /root/.pyenv/versions/3.7.8/lib/python3.7/site-packages (from Ipython) (0.7.5)\n",
      "Requirement already satisfied: ptyprocess>=0.5 in /root/.pyenv/versions/3.7.8/lib/python3.7/site-packages (from pexpect>4.3; sys_platform != \"win32\"->Ipython) (0.7.0)\n",
      "Requirement already satisfied: parso<0.9.0,>=0.8.0 in /root/.pyenv/versions/3.7.8/lib/python3.7/site-packages (from jedi>=0.16->Ipython) (0.8.3)\n",
      "Requirement already satisfied: wcwidth in /root/.pyenv/versions/3.7.8/lib/python3.7/site-packages (from prompt-toolkit!=3.0.0,!=3.0.1,<3.1.0,>=2.0.0->Ipython) (0.2.5)\n",
      "\u001b[33mWARNING: You are using pip version 20.1.1; however, version 22.1.2 is available.\n",
      "You should consider upgrading via the '/root/.pyenv/versions/3.7.8/bin/python3.7 -m pip install --upgrade pip' command.\u001b[0m\n",
      "Note: you may need to restart the kernel to use updated packages.\n"
     ]
    }
   ],
   "source": [
    "pip install Ipython"
   ]
  },
  {
   "cell_type": "code",
   "execution_count": null,
   "id": "f89bb019",
   "metadata": {},
   "outputs": [],
   "source": []
  }
 ],
 "metadata": {
  "kernelspec": {
   "display_name": "torch",
   "language": "python",
   "name": "torch"
  },
  "language_info": {
   "codemirror_mode": {
    "name": "ipython",
    "version": 3
   },
   "file_extension": ".py",
   "mimetype": "text/x-python",
   "name": "python",
   "nbconvert_exporter": "python",
   "pygments_lexer": "ipython3",
   "version": "3.7.8"
  }
 },
 "nbformat": 4,
 "nbformat_minor": 5
}
